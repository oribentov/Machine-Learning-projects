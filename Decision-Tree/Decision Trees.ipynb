{
 "cells": [
  {
   "cell_type": "markdown",
   "metadata": {},
   "source": [
    "# Decision Trees\n",
    "\n",
    "Implement a Decision Tree algorithm.\n",
    "\n",
    "##  Perform the following:\n",
    "1. Implement two impurity measures: Gini and Entropy.\n",
    "2. Implement a decision tree from scratch.\n",
    "3. Prune the tree to achieve better results.\n",
    "4. Visualize your results and the tree."
   ]
  },
  {
   "cell_type": "code",
   "execution_count": 3,
   "metadata": {
    "deletable": false,
    "editable": false,
    "nbgrader": {
     "checksum": "63bcec20cb406a2169b49168f173c760",
     "grade": false,
     "grade_id": "cell-ed9fe7b1026e33cb",
     "locked": true,
     "schema_version": 1,
     "solution": false
    }
   },
   "outputs": [],
   "source": [
    "import numpy as np\n",
    "import pandas as pd\n",
    "import matplotlib.pyplot as plt\n",
    "from DT import * # this imports all functions from DT.py\n",
    "\n",
    "# make matplotlib figures appear inline in the notebook\n",
    "%matplotlib inline\n",
    "plt.rcParams['figure.figsize'] = (10.0, 8.0) # set default size of plots\n",
    "plt.rcParams['image.interpolation'] = 'nearest'\n",
    "plt.rcParams['image.cmap'] = 'gray'\n",
    "\n",
    "# Make the notebook automatically reload external python modules\n",
    "%load_ext autoreload\n",
    "%autoreload 2"
   ]
  },
  {
   "cell_type": "markdown",
   "metadata": {},
   "source": [
    "## Data preprocessing\n",
    "\n",
    "We will use the breast cancer dataset that is available as a part of sklearn - a popular machine learning and data science library in python. In this example, our dataset will be a single matrix with the **labels on the last column**. Notice that you are not allowed to use additional functions from sklearn."
   ]
  },
  {
   "cell_type": "code",
   "execution_count": 4,
   "metadata": {
    "deletable": false,
    "editable": false,
    "nbgrader": {
     "checksum": "0e2620b671ce98b8a856d59ce9f95f71",
     "grade": false,
     "grade_id": "cell-d79cb4542926ad3f",
     "locked": true,
     "schema_version": 1,
     "solution": false
    }
   },
   "outputs": [
    {
     "name": "stdout",
     "output_type": "stream",
     "text": [
      "Training dataset shape:  (426, 31)\n",
      "Testing dataset shape:  (143, 31)\n"
     ]
    }
   ],
   "source": [
    "from sklearn import datasets\n",
    "from sklearn.model_selection import train_test_split\n",
    "\n",
    "# load dataset\n",
    "X, y = datasets.load_breast_cancer(return_X_y = True)\n",
    "X = np.column_stack([X,y]) # the last column holds the labels\n",
    "\n",
    "# split dataset\n",
    "X_train, X_test = train_test_split(X, random_state=99)\n",
    "\n",
    "print(\"Training dataset shape: \", X_train.shape)\n",
    "print(\"Testing dataset shape: \", X_test.shape)"
   ]
  },
  {
   "cell_type": "markdown",
   "metadata": {},
   "source": [
    "## Impurity Measures\n",
    "\n",
    "Implement the functions `calc_gini` and `calc_entropy` in the python file `DT.py`. Test the implementation:"
   ]
  },
  {
   "cell_type": "code",
   "execution_count": 5,
   "metadata": {},
   "outputs": [
    {
     "name": "stdout",
     "output_type": "stream",
     "text": [
      "0.47768299940488\n",
      "0.9675594819018212\n",
      "0.4675300607546925\n",
      "0.9526351224018599\n"
     ]
    }
   ],
   "source": [
    "ginix = calc_gini(X_train)\n",
    "entx = calc_entropy(X_train)\n",
    "giniy = calc_gini(y)\n",
    "enty = calc_entropy(y)\n",
    "print(ginix)\n",
    "print(entx)\n",
    "print(giniy)\n",
    "print(enty)"
   ]
  },
  {
   "cell_type": "markdown",
   "metadata": {},
   "source": [
    "## Building a Decision Tree\n",
    "\n",
    "Use a Python class to construct the decision tree (look at the `DecisionNode` class in the python file `DT.py`. The class support the following functionality:\n",
    "\n",
    "1. Initiating a node for a decision tree. You will need to use several class methods and class attributes and you are free to use them as you see fit. We recommend that every node will hold the feature and value used for the split and its children.\n",
    "2. The code support both Gini and Entropy as impurity measures. \n",
    "3. The provided data includes continuous data. Create at most a single split for each node of the tree. The threshold  use for this exercise are the average of each consecutive pair of values. For example, assume some features contains the following values: [1,2,3,4,5]. You should use the following thresholds [1.5, 2.5, 3.5, 4.5]. \n",
    "4. When constructing the tree, test all possible thresholds for each feature. The stopping criteria is a pure tree."
   ]
  },
  {
   "cell_type": "code",
   "execution_count": 6,
   "metadata": {},
   "outputs": [],
   "source": [
    "tree_gini = build_tree(data=X_train, impurity=calc_gini) \n",
    "tree_entropy = build_tree(data=X_train, impurity=calc_entropy)"
   ]
  },
  {
   "cell_type": "markdown",
   "metadata": {},
   "source": [
    "## Tree evaluation\n",
    "\n",
    "After building both trees using the training set (using Gini and Entropy as impurity measures), calculate the accuracy on the test set and print the measure that gave you the best test accuracy."
   ]
  },
  {
   "cell_type": "code",
   "execution_count": 7,
   "metadata": {},
   "outputs": [
    {
     "name": "stdout",
     "output_type": "stream",
     "text": [
      "the best accuracy using entropy: 93.7062937062937 \b%\n"
     ]
    }
   ],
   "source": [
    "accent = calc_accuracy(tree_entropy, X_test)\n",
    "accgini = calc_accuracy(tree_gini, X_test)\n",
    "if accent > accgini:\n",
    "    print(\"the best accuracy using entropy:\",accent,\"\\b%\")\n",
    "else:\n",
    "    print(\"the bes accuracy using gini:\",accgini,\"\\b%\")"
   ]
  },
  {
   "cell_type": "markdown",
   "metadata": {},
   "source": [
    "## Chi square pre-pruning\n",
    "\n",
    "Consider the following p-value cut-off values: [1 (no pruning), 0.01, 0.005, 0.001, 0.0005, 0.0001, 0.00001]. For each value, construct a tree and prune it according to the cut-off value. Next, calculate the training and testing accuracy. On a single plot, draw the training and testing accuracy as a function of the p-value."
   ]
  },
  {
   "cell_type": "code",
   "execution_count": 8,
   "metadata": {},
   "outputs": [],
   "source": [
    "training = []\n",
    "testing  = []\n",
    "roots = []\n",
    "for chi_value in [1, 0.01, 0.005, 0.001, 0.0005, 0.0001, 0.00001]:\n",
    "    root = build_tree(X_train, calc_entropy, chi_value)\n",
    "    roots.append(root)\n",
    "    training.append(calc_accuracy(root, X_train))\n",
    "    testing.append(calc_accuracy(root, X_test))\n",
    "    pass"
   ]
  },
  {
   "cell_type": "code",
   "execution_count": 9,
   "metadata": {},
   "outputs": [
    {
     "data": {
      "image/png": "[encoded data removed]",
      "text/plain": [
       "<Figure size 720x576 with 1 Axes>"
      ]
     },
     "metadata": {
      "needs_background": "light"
     },
     "output_type": "display_data"
    }
   ],
   "source": [
    "#### visualization ####\n",
    "chi_table = [1, 0.01, 0.005, 0.001, 0.0005, 0.0001, 0.00001]\n",
    "\n",
    "plt.plot(chi_table, training)\n",
    "plt.plot(chi_table, testing)\n",
    "plt.xscale('log')\n",
    "plt.yscale('linear')\n",
    "plt.xlabel('Chi value')\n",
    "plt.ylabel('Accuracy (%)')\n",
    "plt.title('Accuracy as a function of the p-value')\n",
    "plt.legend(['Training ', 'Testing ']);\n",
    "plt.show()"
   ]
  },
  {
   "cell_type": "markdown",
   "metadata": {},
   "source": [
    "## Post pruning\n",
    "\n",
    "Construct a decision tree without Chi square pruning. For each leaf in the tree, calculate the test accuracy of the tree assuming no split occurred on the parent of that leaf and find the best such parent (in the sense that not splitting on that parent results in the best testing accuracy among possible parents). Make that parent into a leaf and repeat this process until you are left with just the root. On a single plot, draw the training and testing accuracy as a function of the number of internal nodes in the tree."
   ]
  },
  {
   "cell_type": "code",
   "execution_count": 10,
   "metadata": {},
   "outputs": [
    {
     "data": {
      "image/png": "[encoded data removed]",
      "text/plain": [
       "<Figure size 720x576 with 1 Axes>"
      ]
     },
     "metadata": {
      "needs_background": "light"
     },
     "output_type": "display_data"
    }
   ],
   "source": [
    "tree_root = build_tree(data=X_train, impurity=calc_entropy)\n",
    "num_of_nodes, train_acc, test_acc = post_pruning(tree_root, X_train, X_test)\n",
    "plt.plot(num_of_nodes, train_acc)\n",
    "plt.plot(num_of_nodes, test_acc)\n",
    "plt.xscale('linear')\n",
    "plt.yscale('linear')\n",
    "plt.xlabel('number of internal nodes')\n",
    "plt.ylabel('Accuracy (%)')\n",
    "plt.title('Accuracy as a function of the number of internal nodes')\n",
    "plt.legend(['Training ', 'Testing ']);\n",
    "plt.show()\n"
   ]
  },
  {
   "cell_type": "markdown",
   "metadata": {},
   "source": [
    "## Print the tree\n",
    "\n",
    "Complete the function `print_tree` in the python file `DT.py` and print the tree using the chosen impurity measure and no pruning."
   ]
  },
  {
   "cell_type": "code",
   "execution_count": 11,
   "metadata": {},
   "outputs": [
    {
     "name": "stdout",
     "output_type": "stream",
     "text": [
      "[X27 <= 0.14235]\n",
      "  [X13 <= 21.924999999999997]\n",
      "    [X4 <= 0.079285]\n",
      "      leaf: [{0.0: 140}]\n",
      "      leaf: [{1.0: 1}]\n",
      "    [X21 <= 29.0]\n",
      "      leaf: [{0.0: 5}]\n",
      "      [X1 <= 20.52]\n",
      "        leaf: [{0.0: 1}]\n",
      "        leaf: [{1.0: 8}]\n",
      "  [X3 <= 696.25]\n",
      "    [X1 <= 19.72]\n",
      "      leaf: [{0.0: 13}]\n",
      "      [X6 <= 0.073105]\n",
      "        leaf: [{0.0: 3}]\n",
      "        leaf: [{1.0: 7}]\n",
      "    [X27 <= 0.1349]\n",
      "      [X15 <= 0.02744]\n",
      "        leaf: [{1.0: 6}]\n",
      "        [X0 <= 13.225000000000001]\n",
      "          leaf: [{0.0: 4}]\n",
      "          leaf: [{1.0: 1}]\n",
      "      [X10 <= 0.62555]\n",
      "        [X1 <= 18.630000000000003]\n",
      "          leaf: [{1.0: 2}]\n",
      "          leaf: [{0.0: 1}]\n",
      "        [X21 <= 33.349999999999994]\n",
      "          [X21 <= 33.56]\n",
      "            leaf: [{1.0: 17}]\n",
      "            leaf: [{0.0: 1}]\n",
      "          leaf: [{1.0: 216}]\n"
     ]
    }
   ],
   "source": [
    "print_tree(tree_entropy)"
   ]
  }
 ],
 "metadata": {
  "kernelspec": {
   "display_name": "Python 3",
   "language": "python",
   "name": "python3"
  },
  "language_info": {
   "codemirror_mode": {
    "name": "ipython",
    "version": 3
   },
   "file_extension": ".py",
   "mimetype": "text/x-python",
   "name": "python",
   "nbconvert_exporter": "python",
   "pygments_lexer": "ipython3",
   "version": "3.7.2"
  }
 },
 "nbformat": 4,
 "nbformat_minor": 2
}
